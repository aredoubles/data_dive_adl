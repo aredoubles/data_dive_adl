{
 "cells": [
  {
   "cell_type": "markdown",
   "metadata": {},
   "source": [
    "# Bringing together new articles on hate crimes\n",
    "\n",
    "Down the road, classify articles as hate-related or not\n",
    "\n",
    "- Unsupervised approach:\n",
    "    - Topic modeling!\n",
    "        - Manually find topics related to hate crimes\n",
    "        - Requires bulk scraping/downloading of a paper\n",
    "- Supervised approach\n",
    "    - Requires labels for articles\n",
    "        - Find articles that are hate-crime-related, and articles that are not\n",
    "\n",
    "To me, this supervised approach seems much more feasible"
   ]
  },
  {
   "cell_type": "markdown",
   "metadata": {},
   "source": [
    "## Finding articles related to hate crimes\n",
    "\n",
    "- @orensegal\n",
    "    - Director, Center on Extremism\n",
    "    - Would need to scrape his Twitter feed for links\n",
    "        - Seems to require the Twitter API, doesn't have an RSS feed\n",
    "- [ADL in the News](https://www.adl.org/news/media-watch)\n",
    "    - More of a post-facto ADL response, not event reporting itself\n",
    "- [NYT hate crimes topic](https://www.nytimes.com/topic/subject/hate-crimes)\n",
    "    - Plus other news sources that tag their articles (labels!)\n",
    "\n",
    "Try the ADL feed first (or NYT?).\n",
    "\n",
    "Parse that feed, grab articles, then..."
   ]
  },
  {
   "cell_type": "markdown",
   "metadata": {},
   "source": [
    "### Next steps\n",
    "\n",
    "- May also need to parse and download news articles that are NOT related to hate crimes.\n",
    "    - This is if we want to dive into training a classifier\n",
    "- Dive into term frequency, importance, etc.\n",
    "    - Doesn't need the non-hate-related articles, but\n",
    "        - Much less insightful"
   ]
  },
  {
   "cell_type": "markdown",
   "metadata": {},
   "source": [
    "## Feed parsing\n",
    "\n",
    "Try out [feedparser](https://pythonhosted.org/feedparser/introduction.html#parsing-a-feed-from-a-remote-url)!"
   ]
  },
  {
   "cell_type": "code",
   "execution_count": null,
   "metadata": {
    "collapsed": true
   },
   "outputs": [],
   "source": [
    "import feedparser"
   ]
  },
  {
   "cell_type": "code",
   "execution_count": 17,
   "metadata": {
    "collapsed": true
   },
   "outputs": [],
   "source": [
    "# NY Times Hate Crimes feed\n",
    "d = feedparser.parse('https://www.nytimes.com/svc/collections/v1/publish/http://www.nytimes.com/topic/subject/hate-crimes/rss.xml')"
   ]
  },
  {
   "cell_type": "code",
   "execution_count": null,
   "metadata": {},
   "outputs": [],
   "source": [
    "print(d['feed']['title'])\n",
    "print(d['feed']['link'])\n",
    "print(d['feed']['description'])"
   ]
  },
  {
   "cell_type": "code",
   "execution_count": null,
   "metadata": {},
   "outputs": [],
   "source": [
    "for i in range(10):\n",
    "    print(d['entries'][i]['title'])"
   ]
  },
  {
   "cell_type": "code",
   "execution_count": null,
   "metadata": {},
   "outputs": [],
   "source": [
    "for i in range(5):\n",
    "    print(i)\n",
    "    print(d['entries'][i]['description'])\n",
    "    print()"
   ]
  },
  {
   "cell_type": "markdown",
   "metadata": {},
   "source": [
    "Let's try The Guardian now too."
   ]
  },
  {
   "cell_type": "code",
   "execution_count": null,
   "metadata": {
    "collapsed": true
   },
   "outputs": [],
   "source": [
    "tg = feedparser.parse('https://www.theguardian.com/society/hate-crime/rss')"
   ]
  },
  {
   "cell_type": "code",
   "execution_count": null,
   "metadata": {},
   "outputs": [],
   "source": [
    "print(tg['feed']['title'])\n",
    "print(tg['feed']['link'])\n",
    "print(tg['feed']['description'])"
   ]
  },
  {
   "cell_type": "code",
   "execution_count": null,
   "metadata": {},
   "outputs": [],
   "source": [
    "for i in range(10):\n",
    "    print(tg['entries'][i]['title'])"
   ]
  },
  {
   "cell_type": "code",
   "execution_count": null,
   "metadata": {},
   "outputs": [],
   "source": [
    "for i in range(2):\n",
    "    print(i)\n",
    "    print(tg['entries'][i]['description'])\n",
    "    print()\n",
    "\n",
    "# Much longer descriptions than the NYT, but still not a full article"
   ]
  },
  {
   "cell_type": "markdown",
   "metadata": {},
   "source": [
    "Beyond these titles and descriptions, the RSS feeds for these sources don't seem to contain the full text for these articles.\n",
    "\n",
    "Will probably need to download them, and scrape as a separate step.\n",
    "\n",
    "Other news sources may have fuller RSS feeds.\n",
    "\n",
    "Okay, let's try to scrape our first article!"
   ]
  },
  {
   "cell_type": "code",
   "execution_count": null,
   "metadata": {
    "collapsed": true
   },
   "outputs": [],
   "source": [
    "import requests, bs4\n",
    "import re"
   ]
  },
  {
   "cell_type": "code",
   "execution_count": null,
   "metadata": {},
   "outputs": [],
   "source": [
    "d['entries'][0]['link']"
   ]
  },
  {
   "cell_type": "code",
   "execution_count": null,
   "metadata": {},
   "outputs": [],
   "source": [
    "res = requests.get(d['entries'][0]['link'])"
   ]
  },
  {
   "cell_type": "code",
   "execution_count": null,
   "metadata": {
    "collapsed": true
   },
   "outputs": [],
   "source": [
    "res.raise_for_status()"
   ]
  },
  {
   "cell_type": "code",
   "execution_count": null,
   "metadata": {},
   "outputs": [],
   "source": [
    "starch = bs4.BeautifulSoup(res.text)"
   ]
  },
  {
   "cell_type": "code",
   "execution_count": null,
   "metadata": {},
   "outputs": [],
   "source": [
    "starch.select('#story')"
   ]
  },
  {
   "cell_type": "code",
   "execution_count": null,
   "metadata": {},
   "outputs": [],
   "source": [
    "starch.select('#story-body-text')"
   ]
  },
  {
   "cell_type": "code",
   "execution_count": null,
   "metadata": {},
   "outputs": [],
   "source": [
    "starch.body.article.get_text(strip=True)"
   ]
  },
  {
   "cell_type": "code",
   "execution_count": null,
   "metadata": {},
   "outputs": [],
   "source": [
    "rawt = starch.body.article.get_text(strip=True)"
   ]
  },
  {
   "cell_type": "code",
   "execution_count": null,
   "metadata": {},
   "outputs": [],
   "source": [
    "thetext = starch.find_all('p', attrs={'class' : 'story-body-text'})"
   ]
  },
  {
   "cell_type": "code",
   "execution_count": null,
   "metadata": {},
   "outputs": [],
   "source": [
    "thetext = starch.find_all(class_ = 'story-body-text')"
   ]
  },
  {
   "cell_type": "code",
   "execution_count": 7,
   "metadata": {},
   "outputs": [
    {
     "name": "stdout",
     "output_type": "stream",
     "text": [
      "From Amsterdam to New York, London to Havana, Dutch men across the world held hands this week to show solidarity with a gay couple who say they were brutally beaten in Arnhem, the Netherlands.\n",
      "The outpouring of support came after the married couple, Jasper Vernes-Sewratan and Ronnie Sewratan-Vernes, said they were attacked by a gang of youths while holding hands on their way home from a party early Sunday.\n",
      "According to a statement the Arnhem police posted on Facebook, the two said they had been attacked by men wielding bolt cutters; one had some of his teeth smashed out.\n",
      "Prosecutors said five teenage suspects would be charged on Thursday with serious bodily harm. The authorities are still investigating the motivation for the attack, which the victims have characterized as a hate crime.\n",
      "The beating caused particular outrage in the Netherlands, which has long prided itself on its tolerance. Amsterdam, the capital, has been a haven for sexual minorities for centuries, and it has marketed itself as the “gay capital of Europe.” Homosexuality was removed from the Dutch criminal code in 1811, and the Netherlands was the first country in the world to legalize gay marriage, with the first ceremonies in 2001.\n",
      "Gay rights are supported across the political spectrum in the Netherlands. The attack comes as the country has been grappling with growing anti-immigrant sentiment, fueled in part by the far-right leader Geert Wilders, who has railed against immigrants and Muslims in particular, saying that “Islamization” is a threat to European liberal values, including gay rights and women’s rights.\n",
      "The populist party of Mr. Wilders, who likens himself to Donald J. Trump, came second in recent Dutch elections. He is an ideological heir of Pim Fortuyn, a right-wing politician who derided Islam, immigration and multiculturalism, and who was openly gay. Mr. Fortuyn was killed in 2002, days before his party placed second in national elections.\n",
      "The Dutch news media quoted Gerald Roethof, a lawyer for one of the suspects, as saying that the couple had instigated the fight by acting aggressively toward the teenagers, an accusation the two vehemently denied. Mr. Roethof also denied that bolt cutters had been used, or that the men were targeted because they were gay. But he said his client had acknowledged punching one of the men in the mouth.\n",
      "Mr. Sewratan-Vernes, 31, told  the Dutch public broadcaster NOS that he and his husband seldom held hands in public for fear of provoking an attack. “But we’d had a nice evening, it was late, and we thought we were alone,” he said.\n",
      "Then suddenly six to eight youths set upon them, he said, and “before I knew it, I was on the ground fighting with three men on top of me.”\n",
      "After the attack, which Mr. Vernes-Sewratan, 35, recounted on his Facebook page, Dutch politicians, actors, police officers, soldiers and athletes took to the streets, holding hands. Hundreds of people marched through the streets of Amsterdam to show their support for gay rights. The expressions of support grew after the journalist Barbara Berend appealed on Twitter for men, whether straight or gay, to walk hand in hand.\n",
      "Dozens heeded her call and posted photographs of themselves doing just that, often with the hashtag #allemannenhandinhand (all men holding hands). Two high-profile politicians — Alexander Pechtold, leader of the liberal-democratic party D66, and Wouter Koolmees, a lawmaker in the party — showed up for coalition talks on Monday holding hands.\n",
      "COC Netherlands, an advocacy group for gay rights based in Amsterdam, said the number of reported cases of violence against gay men, lesbians, bisexuals and transgender people had increased to 1,600 in 2015 from about 400 in 2009. Of the 1,600, nine resulted in convictions for discrimination-related offenses, including hate crimes.\n",
      "It cautioned, however, that the increase in reporting could also be a result of greater awareness of the issue.\n"
     ]
    }
   ],
   "source": [
    "for tag in thetext:\n",
    "    print(tag.text.strip())"
   ]
  },
  {
   "cell_type": "code",
   "execution_count": 9,
   "metadata": {},
   "outputs": [
    {
     "data": {
      "text/plain": [
       "'It cautioned, however, that the increase in reporting could also be a result of greater awareness of the issue.'"
      ]
     },
     "execution_count": 9,
     "metadata": {},
     "output_type": "execute_result"
    }
   ],
   "source": [
    "tag.text.strip()"
   ]
  },
  {
   "cell_type": "markdown",
   "metadata": {},
   "source": [
    "## Putting it all together"
   ]
  },
  {
   "cell_type": "code",
   "execution_count": 15,
   "metadata": {},
   "outputs": [
    {
     "ename": "IndexError",
     "evalue": "list index out of range",
     "output_type": "error",
     "traceback": [
      "\u001b[0;31m---------------------------------------------------------------------------\u001b[0m",
      "\u001b[0;31mIndexError\u001b[0m                                Traceback (most recent call last)",
      "\u001b[0;32m<ipython-input-15-bb56a93d21b7>\u001b[0m in \u001b[0;36m<module>\u001b[0;34m()\u001b[0m\n\u001b[1;32m      8\u001b[0m \u001b[0;34m\u001b[0m\u001b[0m\n\u001b[1;32m      9\u001b[0m \u001b[0;32mfor\u001b[0m \u001b[0mi\u001b[0m \u001b[0;32min\u001b[0m \u001b[0mrange\u001b[0m\u001b[0;34m(\u001b[0m\u001b[0;36m20\u001b[0m\u001b[0;34m)\u001b[0m\u001b[0;34m:\u001b[0m\u001b[0;34m\u001b[0m\u001b[0m\n\u001b[0;32m---> 10\u001b[0;31m     \u001b[0mres\u001b[0m \u001b[0;34m=\u001b[0m \u001b[0mrequests\u001b[0m\u001b[0;34m.\u001b[0m\u001b[0mget\u001b[0m\u001b[0;34m(\u001b[0m\u001b[0mnytrss\u001b[0m\u001b[0;34m[\u001b[0m\u001b[0;34m'entries'\u001b[0m\u001b[0;34m]\u001b[0m\u001b[0;34m[\u001b[0m\u001b[0mi\u001b[0m\u001b[0;34m]\u001b[0m\u001b[0;34m[\u001b[0m\u001b[0;34m'link'\u001b[0m\u001b[0;34m]\u001b[0m\u001b[0;34m)\u001b[0m\u001b[0;34m\u001b[0m\u001b[0m\n\u001b[0m\u001b[1;32m     11\u001b[0m     \u001b[0mres\u001b[0m\u001b[0;34m.\u001b[0m\u001b[0mraise_for_status\u001b[0m\u001b[0;34m(\u001b[0m\u001b[0;34m)\u001b[0m\u001b[0;34m\u001b[0m\u001b[0m\n\u001b[1;32m     12\u001b[0m     \u001b[0mstarch\u001b[0m \u001b[0;34m=\u001b[0m \u001b[0mbs4\u001b[0m\u001b[0;34m.\u001b[0m\u001b[0mBeautifulSoup\u001b[0m\u001b[0;34m(\u001b[0m\u001b[0mres\u001b[0m\u001b[0;34m.\u001b[0m\u001b[0mtext\u001b[0m\u001b[0;34m,\u001b[0m \u001b[0;34m'html5lib'\u001b[0m\u001b[0;34m)\u001b[0m\u001b[0;34m\u001b[0m\u001b[0m\n",
      "\u001b[0;31mIndexError\u001b[0m: list index out of range"
     ]
    }
   ],
   "source": [
    "import requests\n",
    "import bs4\n",
    "import feedparser\n",
    "\n",
    "# NY Times Hate Crimes feed\n",
    "nytrss = feedparser.parse(\n",
    "    'https://www.nytimes.com/svc/collections/v1/publish/http://www.nytimes.com/topic/subject/hate-crimes/rss.xml')\n",
    "\n",
    "for i in range(20):\n",
    "    res = requests.get(nytrss['entries'][i]['link'])\n",
    "    res.raise_for_status()\n",
    "    starch = bs4.BeautifulSoup(res.text, 'html5lib')\n",
    "    # The below is specific to the NYT\n",
    "    thetext = starch.find_all(class_='story-body-text')\n",
    "\n",
    "    with open(\"Output.txt\", \"a\") as text_file:\n",
    "        for tag in thetext:\n",
    "            text_file.write(tag.text.strip())\n",
    "            text_file.write(' ')\n",
    "\n",
    "        # Insert a line break after each article\n",
    "        text_file.write('\\n\\n')\n"
   ]
  },
  {
   "cell_type": "markdown",
   "metadata": {},
   "source": [
    "Should also grab some other, random NYT articles, for the other part of the training set."
   ]
  },
  {
   "cell_type": "code",
   "execution_count": 19,
   "metadata": {},
   "outputs": [
    {
     "ename": "IndexError",
     "evalue": "list index out of range",
     "output_type": "error",
     "traceback": [
      "\u001b[0;31m---------------------------------------------------------------------------\u001b[0m",
      "\u001b[0;31mIndexError\u001b[0m                                Traceback (most recent call last)",
      "\u001b[0;32m<ipython-input-19-20608ae9d19d>\u001b[0m in \u001b[0;36m<module>\u001b[0;34m()\u001b[0m\n\u001b[1;32m      8\u001b[0m \u001b[0;34m\u001b[0m\u001b[0m\n\u001b[1;32m      9\u001b[0m \u001b[0;32mfor\u001b[0m \u001b[0mi\u001b[0m \u001b[0;32min\u001b[0m \u001b[0mrange\u001b[0m\u001b[0;34m(\u001b[0m\u001b[0;36m20\u001b[0m\u001b[0;34m)\u001b[0m\u001b[0;34m:\u001b[0m\u001b[0;34m\u001b[0m\u001b[0m\n\u001b[0;32m---> 10\u001b[0;31m     \u001b[0mres\u001b[0m \u001b[0;34m=\u001b[0m \u001b[0mrequests\u001b[0m\u001b[0;34m.\u001b[0m\u001b[0mget\u001b[0m\u001b[0;34m(\u001b[0m\u001b[0mnytrss\u001b[0m\u001b[0;34m[\u001b[0m\u001b[0;34m'entries'\u001b[0m\u001b[0;34m]\u001b[0m\u001b[0;34m[\u001b[0m\u001b[0mi\u001b[0m\u001b[0;34m]\u001b[0m\u001b[0;34m[\u001b[0m\u001b[0;34m'link'\u001b[0m\u001b[0;34m]\u001b[0m\u001b[0;34m)\u001b[0m\u001b[0;34m\u001b[0m\u001b[0m\n\u001b[0m\u001b[1;32m     11\u001b[0m     \u001b[0mres\u001b[0m\u001b[0;34m.\u001b[0m\u001b[0mraise_for_status\u001b[0m\u001b[0;34m(\u001b[0m\u001b[0;34m)\u001b[0m\u001b[0;34m\u001b[0m\u001b[0m\n\u001b[1;32m     12\u001b[0m     \u001b[0mstarch\u001b[0m \u001b[0;34m=\u001b[0m \u001b[0mbs4\u001b[0m\u001b[0;34m.\u001b[0m\u001b[0mBeautifulSoup\u001b[0m\u001b[0;34m(\u001b[0m\u001b[0mres\u001b[0m\u001b[0;34m.\u001b[0m\u001b[0mtext\u001b[0m\u001b[0;34m,\u001b[0m \u001b[0;34m'html5lib'\u001b[0m\u001b[0;34m)\u001b[0m\u001b[0;34m\u001b[0m\u001b[0m\n",
      "\u001b[0;31mIndexError\u001b[0m: list index out of range"
     ]
    }
   ],
   "source": [
    "# NY Times feed on NY local news\n",
    "nytrss = feedparser.parse(\n",
    "    'https://www.nytimes.com/svc/collections/v1/publish/https://www.nytimes.com/section/nyregion/rss.xml')\n",
    "\n",
    "for i in range(20):\n",
    "    res = requests.get(nytrss['entries'][i]['link'])\n",
    "    res.raise_for_status()\n",
    "    starch = bs4.BeautifulSoup(res.text, 'html5lib')\n",
    "    # The below is specific to the NYT\n",
    "    thetext = starch.find_all(class_='story-body-text')\n",
    "\n",
    "    with open(\"Output.txt\", \"a\") as text_file:\n",
    "        for tag in thetext:\n",
    "            text_file.write(tag.text.strip())\n",
    "            text_file.write(' ')\n",
    "\n",
    "        # Insert a line break after each article\n",
    "        text_file.write('\\n\\n')\n"
   ]
  },
  {
   "cell_type": "markdown",
   "metadata": {},
   "source": [
    "Let's move on to The Guardian"
   ]
  },
  {
   "cell_type": "code",
   "execution_count": 35,
   "metadata": {},
   "outputs": [],
   "source": [
    "# Scrape one article, before moving on to whole feed\n",
    "guardrss = feedparser.parse(\n",
    "    'https://www.theguardian.com/society/hate-crime/rss')\n",
    "\n",
    "res = requests.get(guardrss['entries'][0]['link'])\n",
    "res.raise_for_status()\n",
    "starch = bs4.BeautifulSoup(res.text, 'html5lib')\n",
    "# The below is specific to The Guardian\n",
    "thetext = starch.find_all('div', itemprop='articleBody')\n",
    "\n",
    "with open(\"Output.txt\", \"a\") as text_file:\n",
    "        for tag in thetext:\n",
    "            string = tag.text.strip()\n",
    "            string = string.replace('\\r', ' ').replace('\\n', ' ')\n",
    "            text_file.write(string)\n",
    "\n",
    "        # Insert a line break after each article\n",
    "        # text_file.write('\\n\\n')"
   ]
  },
  {
   "cell_type": "code",
   "execution_count": 36,
   "metadata": {},
   "outputs": [],
   "source": [
    "# Guardian feed on hate crime\n",
    "guardrss = feedparser.parse(\n",
    "    'https://www.theguardian.com/society/hate-crime/rss')\n",
    "\n",
    "for i in range(20):\n",
    "    res = requests.get(guardrss['entries'][i]['link'])\n",
    "    res.raise_for_status()\n",
    "    starch = bs4.BeautifulSoup(res.text, 'html5lib')\n",
    "    # The below is specific to The Guardian\n",
    "    thetext = starch.find_all('div', itemprop='articleBody')\n",
    "\n",
    "    with open(\"Output.txt\", \"a\") as text_file:\n",
    "        for tag in thetext:\n",
    "            string = tag.text.strip()\n",
    "            string = string.replace('\\r', ' ').replace('\\n', ' ')\n",
    "            text_file.write(string)\n",
    "\n",
    "        # Insert a line break after each article\n",
    "        text_file.write('\\n\\n')\n"
   ]
  }
 ],
 "metadata": {
  "kernelspec": {
   "display_name": "Python 3",
   "language": "python",
   "name": "python3"
  },
  "language_info": {
   "codemirror_mode": {
    "name": "ipython",
    "version": 3
   },
   "file_extension": ".py",
   "mimetype": "text/x-python",
   "name": "python",
   "nbconvert_exporter": "python",
   "pygments_lexer": "ipython3",
   "version": "3.6.1"
  }
 },
 "nbformat": 4,
 "nbformat_minor": 2
}
